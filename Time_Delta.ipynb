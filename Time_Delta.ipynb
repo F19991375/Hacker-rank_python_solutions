{
  "nbformat": 4,
  "nbformat_minor": 0,
  "metadata": {
    "colab": {
      "provenance": [],
      "authorship_tag": "ABX9TyOmkyx3lth/6c1bBLz6VT9M",
      "include_colab_link": true
    },
    "kernelspec": {
      "name": "python3",
      "display_name": "Python 3"
    },
    "language_info": {
      "name": "python"
    }
  },
  "cells": [
    {
      "cell_type": "markdown",
      "metadata": {
        "id": "view-in-github",
        "colab_type": "text"
      },
      "source": [
        "<a href=\"https://colab.research.google.com/github/F19991375/Hacker-rank_python_solutions/blob/main/Time_Delta.ipynb\" target=\"_parent\"><img src=\"https://colab.research.google.com/assets/colab-badge.svg\" alt=\"Open In Colab\"/></a>"
      ]
    },
    {
      "cell_type": "code",
      "execution_count": null,
      "metadata": {
        "id": "IX3BQ5EoJC13"
      },
      "outputs": [],
      "source": [
        "import math\n",
        "import os\n",
        "import random\n",
        "import re\n",
        "import sys\n",
        "from datetime import datetime\n",
        "# Complete the time_delta function below.\n",
        "def time_delta(t1, t2):\n",
        "    format_ = '%a %d %b %Y %H:%M:%S %z'\n",
        "    t1 = datetime.strptime(t1, format_)\n",
        "    t2 = datetime.strptime(t2, format_)\n",
        "    return str(int(abs((t1-t2).total_seconds())))\n",
        "\n",
        "if name == 'main':\n",
        "    fptr = open(os.environ['OUTPUT_PATH'], 'w')\n",
        "\n",
        "    t = int(input())\n",
        "\n",
        "    for t_itr in range(t):\n",
        "        t1 = input()\n",
        "\n",
        "        t2 = input()\n",
        "\n",
        "        delta = time_delta(t1, t2)\n",
        "\n",
        "        fptr.write(delta + '\\n')\n",
        "\n",
        "    fptr.close()\n",
        "\n",
        "\n",
        
      ]
    }
  ]
}
