{
  "nbformat": 4,
  "nbformat_minor": 0,
  "metadata": {
    "colab": {
      "provenance": [],
      "authorship_tag": "ABX9TyMAiOr/su5/3Qz9WExrsbiR",
      "include_colab_link": true
    },
    "kernelspec": {
      "name": "python3",
      "display_name": "Python 3"
    },
    "language_info": {
      "name": "python"
    }
  },
  "cells": [
    {
      "cell_type": "markdown",
      "metadata": {
        "id": "view-in-github",
        "colab_type": "text"
      },
      "source": [
        "<a href=\"https://colab.research.google.com/github/F19991375/Hacker-rank_python_solutions/blob/main/ginortS.ipynb\" target=\"_parent\"><img src=\"https://colab.research.google.com/assets/colab-badge.svg\" alt=\"Open In Colab\"/></a>"
      ]
    },
    {
      "cell_type": "code",
      "execution_count": null,
      "metadata": {
        "id": "6p-SLaPaEJDB"
      },
      "outputs": [],
      "source": [
        "string = input()\n",
        "lower = []\n",
        "upper = []\n",
        "odd = []\n",
        "even = []\n",
        "for char in string:\n",
        "  if char.islower():\n",
        "    lower.append(char)\n",
        "    lower.sort()\n",
        "  elif char.isupper():\n",
        "    upper.append(char)\n",
        "    upper.sort()\n",
        "  elif int(char) %2 != 0:\n",
        "    odd.append(char)\n",
        "    odd.sort()\n",
        "  elif int(char) %2 == 0:\n",
        "    even.append(char)\n",
        "    even.sort()\n",
        "\n",
        "res = lower + upper + odd + even\n",
        "\n",
        "for i in res:\n",
        "  print(i, end='')\n",
        "\n",
        "\n",
        "\n",
        "\n"
      ]
    }
  ]
}