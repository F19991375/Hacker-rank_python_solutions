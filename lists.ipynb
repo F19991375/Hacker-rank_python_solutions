{
  "nbformat": 4,
  "nbformat_minor": 0,
  "metadata": {
    "colab": {
      "provenance": [],
      "authorship_tag": "ABX9TyNvae+GaO54StC8PSksgHvD",
      "include_colab_link": true
    },
    "kernelspec": {
      "name": "python3",
      "display_name": "Python 3"
    },
    "language_info": {
      "name": "python"
    }
  },
  "cells": [
    {
      "cell_type": "markdown",
      "metadata": {
        "id": "view-in-github",
        "colab_type": "text"
      },
      "source": [
        "<a href=\"https://colab.research.google.com/github/F19991375/Hacker-rank_python_solutions/blob/main/lists.ipynb\" target=\"_parent\"><img src=\"https://colab.research.google.com/assets/colab-badge.svg\" alt=\"Open In Colab\"/></a>"
      ]
    },
    {
      "cell_type": "code",
      "execution_count": null,
      "metadata": {
        "id": "1tUvOT2tD2hS"
      },
      "outputs": [],
      "source": [
        "if __name__ == '__main__':\n",
        "    N = int(input())\n",
        "    _list = []\n",
        "    for _ in range(N):\n",
        "        temp = input().split(\" \")\n",
        "        command = temp[0].strip()\n",
        "        if command == \"insert\":\n",
        "            _list.insert(int(temp[1]),int(temp[2]))\n",
        "        elif command == \"print\":\n",
        "            print(_list)\n",
        "        elif command == \"remove\":\n",
        "            _list.remove(int(temp[1]))\n",
        "        elif command == \"append\":\n",
        "            _list.append(int(temp[1]))\n",
        "        elif command == \"sort\":\n",
        "            _list.sort()\n",
        "        elif command == \"pop\":\n",
        "            _list.pop()\n",
        "        elif command == \"reverse\":\n",
        "            _list.reverse()\n"
      ]
    }
  ]
}